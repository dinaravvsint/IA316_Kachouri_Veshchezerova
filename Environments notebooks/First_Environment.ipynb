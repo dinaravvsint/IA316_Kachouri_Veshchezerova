{
 "cells": [
  {
   "cell_type": "markdown",
   "metadata": {},
   "source": [
    "# First Environment\n",
    "## Neural Network - Explicit Feedback without  covariantes\n",
    "_Mariem Kachouri & Dinara Veshchezerova_"
   ]
  },
  {
   "cell_type": "code",
   "execution_count": 2,
   "metadata": {},
   "outputs": [],
   "source": [
    "import pandas as pd\n",
    "import numpy as np\n",
    "import gc\n",
    "import requests \n",
    "from time import sleep"
   ]
  },
  {
   "cell_type": "markdown",
   "metadata": {},
   "source": [
    "## Retrieving data with the Reset Method "
   ]
  },
  {
   "cell_type": "code",
   "execution_count": 84,
   "metadata": {},
   "outputs": [],
   "source": [
    "user_id = 'VWW01S0D18NSKR55Q43F'\n",
    "base_url ='http://52.47.62.31/'\n",
    "url_reset=base_url+\"reset\"\n",
    "url_predict = base_url+'predict'\n",
    "params = {'user_id':user_id}\n",
    "r = requests.get(url=url_reset,params=params) # get history of rating\n",
    "data = r.json()\n",
    "\n",
    "nb_users = data['nb_users']\n",
    "nb_items = data['nb_items']\n",
    "\n",
    "user_history = data['user_history']\n",
    "item_history = data['item_history']\n",
    "rating_history = data['rating_history']\n",
    "\n",
    "next_user = data['next_user']\n",
    "next_item = data['next_item']"
   ]
  },
  {
   "cell_type": "code",
   "execution_count": 147,
   "metadata": {},
   "outputs": [
    {
     "name": "stdout",
     "output_type": "stream",
     "text": [
      "{\"rating\":\"3.0\"}\n",
      "\n",
      "0.18697547912597656\n"
     ]
    }
   ],
   "source": [
    "## TESTING THE API \n",
    "import requests\n",
    "import time \n",
    "\n",
    "# Testing the training method\n",
    "url_train = 'http://127.0.0.1:80/'+'train'\n",
    "\n",
    "params = {'user_history':user_history, 'item_history':item_history, \n",
    "          'rating_history':rating_history, 'nb_users':nb_users, 'nb_items':nb_items}\n",
    "\n",
    "start = time.time()\n",
    "r = requests.post(url=url_train,params=params) # get history of rating\n",
    "end = time.time()\n",
    "print(end-start)\n",
    "print(r.text)\n",
    "\n",
    "# Testing the predict method\n",
    "url_predict = 'http://127.0.0.1:80/'+'predict'\n",
    "params = { 'next_user':5, 'next_item':10}\n",
    "\n",
    "start = time.time()\n",
    "r = requests.post(url=url_predict,params=params) # get history of rating\n",
    "end = time.time()\n",
    "print(r.text)\n",
    "print(end - start)"
   ]
  },
  {
   "cell_type": "code",
   "execution_count": 132,
   "metadata": {},
   "outputs": [
    {
     "data": {
      "text/plain": [
       "'{\"next_item\":\"10\",\"next_user\":\"5\",\"rating\":\"3.0\"}\\n'"
      ]
     },
     "execution_count": 132,
     "metadata": {},
     "output_type": "execute_result"
    }
   ],
   "source": [
    "r.text"
   ]
  },
  {
   "cell_type": "code",
   "execution_count": 4,
   "metadata": {},
   "outputs": [],
   "source": [
    "nb_samples = 100\n",
    "mse,mae=0,0"
   ]
  },
  {
   "cell_type": "markdown",
   "metadata": {},
   "source": [
    "## Random predictions (Test )"
   ]
  },
  {
   "cell_type": "code",
   "execution_count": 6,
   "metadata": {
    "scrolled": true
   },
   "outputs": [
    {
     "name": "stdout",
     "output_type": "stream",
     "text": [
      "user: 29 | item: 8 | rating: 1 | prediction: 1 \n",
      "user: 0 | item: 225 | rating: 3 | prediction: 3 \n",
      "user: 70 | item: 286 | rating: 1 | prediction: 1 \n",
      "user: 13 | item: 145 | rating: 3 | prediction: 3 \n",
      "user: 39 | item: 66 | rating: 4 | prediction: 4 \n",
      "user: 62 | item: 120 | rating: 4 | prediction: 4 \n",
      "user: 10 | item: 164 | rating: 2 | prediction: 2 \n",
      "user: 17 | item: 143 | rating: 2 | prediction: 3 \n",
      "user: 99 | item: 54 | rating: 4 | prediction: 2 \n",
      "user: 87 | item: 37 | rating: 2 | prediction: 3 \n",
      "user: 18 | item: 40 | rating: 3 | prediction: 2 \n",
      "user: 97 | item: 246 | rating: 5 | prediction: 2 \n",
      "user: 2 | item: 235 | rating: 1 | prediction: 3 \n",
      "user: 29 | item: 94 | rating: 1 | prediction: 4 \n",
      "user: 96 | item: 115 | rating: 2 | prediction: 1 \n",
      "user: 94 | item: 267 | rating: 5 | prediction: 2 \n",
      "user: 75 | item: 131 | rating: 5 | prediction: 2 \n",
      "user: 15 | item: 84 | rating: 1 | prediction: 1 \n",
      "user: 64 | item: 119 | rating: 1 | prediction: 2 \n",
      "user: 88 | item: 281 | rating: 2 | prediction: 1 \n",
      "user: 0 | item: 51 | rating: 1 | prediction: 4 \n",
      "user: 43 | item: 218 | rating: 4 | prediction: 3 \n",
      "user: 15 | item: 221 | rating: 1 | prediction: 4 \n",
      "user: 57 | item: 235 | rating: 5 | prediction: 4 \n",
      "user: 7 | item: 192 | rating: 1 | prediction: 4 \n",
      "user: 37 | item: 26 | rating: 3 | prediction: 1 \n",
      "user: 7 | item: 266 | rating: 2 | prediction: 2 \n",
      "user: 68 | item: 172 | rating: 1 | prediction: 1 \n",
      "user: 12 | item: 258 | rating: 1 | prediction: 4 \n",
      "user: 98 | item: 287 | rating: 2 | prediction: 1 \n",
      "user: 48 | item: 84 | rating: 1 | prediction: 3 \n",
      "user: 44 | item: 163 | rating: 2 | prediction: 3 \n",
      "user: 77 | item: 190 | rating: 1 | prediction: 4 \n",
      "user: 1 | item: 99 | rating: 2 | prediction: 1 \n",
      "user: 61 | item: 95 | rating: 3 | prediction: 1 \n",
      "user: 84 | item: 26 | rating: 5 | prediction: 2 \n",
      "user: 9 | item: 80 | rating: 3 | prediction: 2 \n",
      "user: 47 | item: 48 | rating: 4 | prediction: 2 \n",
      "user: 14 | item: 155 | rating: 1 | prediction: 2 \n",
      "user: 85 | item: 294 | rating: 5 | prediction: 2 \n",
      "user: 43 | item: 161 | rating: 1 | prediction: 3 \n",
      "user: 70 | item: 156 | rating: 4 | prediction: 1 \n",
      "user: 97 | item: 8 | rating: 4 | prediction: 2 \n",
      "user: 16 | item: 17 | rating: 4 | prediction: 1 \n",
      "user: 57 | item: 111 | rating: 1 | prediction: 4 \n",
      "user: 34 | item: 149 | rating: 4 | prediction: 2 \n",
      "user: 81 | item: 136 | rating: 3 | prediction: 3 \n",
      "user: 86 | item: 121 | rating: 2 | prediction: 4 \n",
      "user: 72 | item: 7 | rating: 3 | prediction: 1 \n",
      "user: 85 | item: 138 | rating: 2 | prediction: 1 \n",
      "user: 41 | item: 114 | rating: 4 | prediction: 4 \n",
      "user: 27 | item: 261 | rating: 3 | prediction: 1 \n",
      "user: 81 | item: 162 | rating: 3 | prediction: 3 \n",
      "user: 36 | item: 99 | rating: 2 | prediction: 1 \n",
      "user: 27 | item: 157 | rating: 2 | prediction: 2 \n",
      "user: 85 | item: 54 | rating: 2 | prediction: 4 \n",
      "user: 63 | item: 16 | rating: 3 | prediction: 4 \n",
      "user: 61 | item: 215 | rating: 3 | prediction: 4 \n",
      "user: 74 | item: 279 | rating: 4 | prediction: 3 \n",
      "user: 52 | item: 33 | rating: 1 | prediction: 2 \n",
      "user: 18 | item: 232 | rating: 2 | prediction: 1 \n",
      "user: 36 | item: 196 | rating: 2 | prediction: 4 \n",
      "user: 70 | item: 192 | rating: 5 | prediction: 2 \n",
      "user: 78 | item: 103 | rating: 3 | prediction: 1 \n",
      "user: 10 | item: 273 | rating: 2 | prediction: 2 \n",
      "user: 66 | item: 183 | rating: 4 | prediction: 1 \n",
      "user: 36 | item: 191 | rating: 1 | prediction: 2 \n",
      "user: 72 | item: 271 | rating: 4 | prediction: 4 \n",
      "user: 3 | item: 252 | rating: 1 | prediction: 1 \n",
      "user: 25 | item: 297 | rating: 3 | prediction: 2 \n",
      "user: 4 | item: 63 | rating: 5 | prediction: 4 \n",
      "user: 8 | item: 30 | rating: 3 | prediction: 1 \n",
      "user: 91 | item: 7 | rating: 2 | prediction: 4 \n",
      "user: 98 | item: 137 | rating: 1 | prediction: 4 \n",
      "user: 29 | item: 7 | rating: 4 | prediction: 4 \n",
      "user: 29 | item: 219 | rating: 3 | prediction: 1 \n",
      "user: 98 | item: 149 | rating: 5 | prediction: 4 \n",
      "user: 5 | item: 80 | rating: 1 | prediction: 3 \n",
      "user: 0 | item: 84 | rating: 5 | prediction: 1 \n",
      "user: 56 | item: 231 | rating: 3 | prediction: 3 \n",
      "user: 2 | item: 232 | rating: 1 | prediction: 3 \n",
      "user: 58 | item: 133 | rating: 4 | prediction: 3 \n",
      "user: 72 | item: 258 | rating: 2 | prediction: 2 \n",
      "user: 8 | item: 296 | rating: 1 | prediction: 2 \n",
      "user: 64 | item: 16 | rating: 3 | prediction: 1 \n",
      "user: 78 | item: 193 | rating: 2 | prediction: 4 \n",
      "user: 74 | item: 6 | rating: 5 | prediction: 2 \n",
      "user: 65 | item: 191 | rating: 1 | prediction: 4 \n",
      "user: 81 | item: 52 | rating: 3 | prediction: 1 \n",
      "user: 21 | item: 145 | rating: 3 | prediction: 4 \n",
      "user: 28 | item: 194 | rating: 2 | prediction: 2 \n",
      "user: 36 | item: 97 | rating: 4 | prediction: 3 \n",
      "user: 13 | item: 152 | rating: 1 | prediction: 2 \n",
      "user: 99 | item: 243 | rating: 5 | prediction: 1 \n",
      "user: 84 | item: 17 | rating: 3 | prediction: 3 \n",
      "user: 39 | item: 35 | rating: 1 | prediction: 1 \n",
      "user: 2 | item: 58 | rating: 2 | prediction: 3 \n",
      "user: 26 | item: 185 | rating: 1 | prediction: 4 \n",
      "user: 14 | item: 106 | rating: 4 | prediction: 2 \n",
      "user: 59 | item: 48 | rating: 2 | prediction: 4 \n",
      "**\n",
      "Average MSE:  3.51\n",
      "Average MAE:  1.51\n"
     ]
    }
   ],
   "source": [
    "for i in range(nb_samples):\n",
    "    sleep(0.05) # sleep to let the API breathe and allow others to call requests\n",
    "    prediction = np.random.choice(range(1,5),1,replace=True)[0]\n",
    "    params['predicted_score'] = prediction \n",
    "    r=requests.get(url=url_predict,params=params)\n",
    "    d=r.json()\n",
    "    rating= d['rating'] # previous rating\n",
    "    print('user: %s | item: %s | rating: %s | prediction: %s ' % (d['next_user'],d['next_item'],d['rating'],params['predicted_score']))\n",
    "    next_user = d['next_user']\n",
    "    next_item = d['next_item']\n",
    "    \n",
    "    mse+=(rating-prediction)**2\n",
    "    mae+= abs(rating-prediction)\n",
    "\n",
    "print('**')\n",
    "print('Average MSE: ', mse/nb_samples)\n",
    "print('Average MAE: ', mae/nb_samples)"
   ]
  },
  {
   "cell_type": "markdown",
   "metadata": {},
   "source": [
    "## 2/ Matrix Factroization Method With SVD"
   ]
  },
  {
   "cell_type": "code",
   "execution_count": 8,
   "metadata": {},
   "outputs": [],
   "source": [
    "from surprise import NormalPredictor\n",
    "from surprise import Dataset\n",
    "from surprise import Reader\n",
    "from surprise import SVD\n",
    "from surprise.model_selection import train_test_split"
   ]
  },
  {
   "cell_type": "code",
   "execution_count": 9,
   "metadata": {},
   "outputs": [],
   "source": [
    "# Creating a dataframe. Column names are irrelevant.\n",
    "ratings_dict = {'itemID': item_history,\n",
    "                'userID': user_history,\n",
    "                'rating': rating_history}\n",
    "\n",
    "df = pd.DataFrame(ratings_dict)\n",
    "reader = Reader(rating_scale=(1, 5))\n",
    "# columns correspond to user id, item id and ratings (in that order).\n",
    "data = Dataset.load_from_df(df[['userID', 'itemID', 'rating']], reader)"
   ]
  },
  {
   "cell_type": "code",
   "execution_count": 10,
   "metadata": {},
   "outputs": [],
   "source": [
    "algo = SVD(n_factors = 30) "
   ]
  },
  {
   "cell_type": "code",
   "execution_count": 11,
   "metadata": {},
   "outputs": [
    {
     "data": {
      "text/plain": [
       "<surprise.prediction_algorithms.matrix_factorization.SVD at 0x229fde6f748>"
      ]
     },
     "execution_count": 11,
     "metadata": {},
     "output_type": "execute_result"
    }
   ],
   "source": [
    "# sample random trainset and testset. Test Set is made of 25% of the ratings.\n",
    "trainset, testset = train_test_split(data, test_size=.25)\n",
    "algo.fit(trainset)"
   ]
  },
  {
   "cell_type": "markdown",
   "metadata": {},
   "source": [
    "### Computing predictions on Test Set "
   ]
  },
  {
   "cell_type": "code",
   "execution_count": 12,
   "metadata": {
    "scrolled": true
   },
   "outputs": [
    {
     "data": {
      "text/plain": [
       "[Prediction(uid=13, iid=52, r_ui=2.0, est=3.48314952199677, details={'was_impossible': False}),\n",
       " Prediction(uid=95, iid=232, r_ui=1.0, est=1.9401974778585975, details={'was_impossible': False}),\n",
       " Prediction(uid=98, iid=76, r_ui=4.0, est=3.5346468542124394, details={'was_impossible': False}),\n",
       " Prediction(uid=30, iid=140, r_ui=1.0, est=1.9463792107304159, details={'was_impossible': False}),\n",
       " Prediction(uid=76, iid=203, r_ui=2.0, est=2.381614200323444, details={'was_impossible': False}),\n",
       " Prediction(uid=36, iid=160, r_ui=4.0, est=2.9211803844183515, details={'was_impossible': False}),\n",
       " Prediction(uid=5, iid=281, r_ui=2.0, est=2.6206848253818915, details={'was_impossible': False}),\n",
       " Prediction(uid=24, iid=89, r_ui=2.0, est=2.663761849599171, details={'was_impossible': False}),\n",
       " Prediction(uid=23, iid=227, r_ui=1.0, est=1.1236492971539667, details={'was_impossible': False}),\n",
       " Prediction(uid=2, iid=101, r_ui=2.0, est=2.42228410537052, details={'was_impossible': False})]"
      ]
     },
     "execution_count": 12,
     "metadata": {},
     "output_type": "execute_result"
    }
   ],
   "source": [
    "test_predictions = algo.test(testset)\n",
    "test_predictions[:10]"
   ]
  },
  {
   "cell_type": "code",
   "execution_count": 20,
   "metadata": {},
   "outputs": [
    {
     "name": "stdout",
     "output_type": "stream",
     "text": [
      "**\n",
      "Average MSE:  14.960095455248362\n",
      "Average MAE:  15.150291856374624\n",
      "**\n",
      "Average MSE with round:  0.6776\n",
      "Average MAE with round :  0.5624\n"
     ]
    }
   ],
   "source": [
    "true_ratings = [test_predictions[i].r_ui for i in range (len(test_predictions))]\n",
    "predicted_ratings = [test_predictions[i].est for i in range (len(test_predictions))]\n",
    "round_predicted_ratings = [round(test_predictions[i].est) for i in range (len(test_predictions))]\n",
    "\n",
    "mse,mae,mse_round,mae_round =0,0,0,0\n",
    "\n",
    "for i in range (len(test_predictions)):\n",
    "    mse +=( true_ratings[i] - predicted_ratings[i])**2\n",
    "    mse_round +=( true_ratings[i] - round(predicted_ratings[i]))**2\n",
    "    \n",
    "    mae += abs( true_ratings[i] - predicted_ratings[i])\n",
    "    mae_round += abs(true_ratings[i] - round(predicted_ratings[i]))\n",
    "\n",
    "print('**')\n",
    "print('Average MSE: ', mse/nb_samples)\n",
    "print('Average MAE: ', mae/nb_samples)\n",
    "print('**')\n",
    "print('Average MSE with round: ', mse_round/len(test_predictions))\n",
    "print('Average MAE with round : ', mae_round/len(test_predictions))"
   ]
  },
  {
   "cell_type": "markdown",
   "metadata": {},
   "source": [
    "### Computing Predictions using Predict Method"
   ]
  },
  {
   "cell_type": "code",
   "execution_count": 21,
   "metadata": {},
   "outputs": [],
   "source": [
    "nb_sample = 1000\n",
    "mae,mse,mae_round,mse_round = 0,0,0,0"
   ]
  },
  {
   "cell_type": "code",
   "execution_count": 22,
   "metadata": {},
   "outputs": [
    {
     "name": "stdout",
     "output_type": "stream",
     "text": [
      "Next_User: 59 | Next Item: 48\n"
     ]
    }
   ],
   "source": [
    "print('Next_User: %d | Next Item: %d' %(next_user,next_item))"
   ]
  },
  {
   "cell_type": "code",
   "execution_count": 23,
   "metadata": {
    "scrolled": true
   },
   "outputs": [
    {
     "name": "stdout",
     "output_type": "stream",
     "text": [
      "user: 78 | item: 129 | rating: 2 | predicted rating: 1.8782121157542548 \n",
      "user: 28 | item: 96 | rating: 4 | predicted rating: 4.427570547855617 \n",
      "user: 82 | item: 126 | rating: 1 | predicted rating: 1.6903741129478302 \n",
      "user: 4 | item: 193 | rating: 3 | predicted rating: 2.8311454552627553 \n",
      "user: 42 | item: 95 | rating: 2 | predicted rating: 2.4714740640057533 \n",
      "user: 52 | item: 26 | rating: 1 | predicted rating: 2.475802559724176 \n",
      "user: 26 | item: 243 | rating: 1 | predicted rating: 1.6817716927441828 \n",
      "user: 45 | item: 63 | rating: 5 | predicted rating: 4.069144002542325 \n",
      "user: 38 | item: 256 | rating: 3 | predicted rating: 3.948944630584207 \n",
      "user: 89 | item: 68 | rating: 5 | predicted rating: 4.760339738891416 \n",
      "user: 95 | item: 252 | rating: 2 | predicted rating: 2.9964771694321763 \n",
      "user: 71 | item: 66 | rating: 3 | predicted rating: 2.475224704892222 \n",
      "user: 57 | item: 34 | rating: 5 | predicted rating: 4.8399746200693485 \n",
      "user: 76 | item: 270 | rating: 5 | predicted rating: 4.0760818986893375 \n",
      "user: 28 | item: 207 | rating: 4 | predicted rating: 3.7818146849575487 \n",
      "user: 0 | item: 245 | rating: 5 | predicted rating: 4.539997549295143 \n",
      "user: 94 | item: 143 | rating: 2 | predicted rating: 3.460887505913642 \n",
      "user: 9 | item: 133 | rating: 4 | predicted rating: 3.5406047386719015 \n",
      "user: 84 | item: 297 | rating: 3 | predicted rating: 3.5045544896346774 \n",
      "user: 95 | item: 254 | rating: 2 | predicted rating: 3.1310483206490067 \n",
      "user: 9 | item: 88 | rating: 2 | predicted rating: 1.5802737704520227 \n",
      "user: 15 | item: 279 | rating: 3 | predicted rating: 3.7416201809108127 \n",
      "user: 67 | item: 6 | rating: 3 | predicted rating: 3.1309525157960376 \n",
      "user: 81 | item: 295 | rating: 4 | predicted rating: 3.3010904657181817 \n",
      "user: 76 | item: 108 | rating: 2 | predicted rating: 1 \n",
      "user: 1 | item: 113 | rating: 5 | predicted rating: 3.8675326224527256 \n",
      "user: 6 | item: 69 | rating: 1 | predicted rating: 1.6289734328502794 \n",
      "user: 33 | item: 27 | rating: 1 | predicted rating: 2.0739191443558305 \n",
      "user: 67 | item: 118 | rating: 4 | predicted rating: 4.01337685731692 \n",
      "user: 68 | item: 161 | rating: 2 | predicted rating: 2.093661203123805 \n",
      "user: 70 | item: 71 | rating: 2 | predicted rating: 3.15623387006639 \n",
      "user: 20 | item: 35 | rating: 4 | predicted rating: 3.780502352293006 \n",
      "user: 9 | item: 36 | rating: 1 | predicted rating: 3.053618111929933 \n",
      "user: 40 | item: 297 | rating: 4 | predicted rating: 3.73370226449995 \n",
      "user: 34 | item: 52 | rating: 1 | predicted rating: 1.3310611559518588 \n",
      "user: 56 | item: 147 | rating: 3 | predicted rating: 2.4382501348515753 \n",
      "user: 42 | item: 245 | rating: 4 | predicted rating: 3.950773651269576 \n",
      "user: 68 | item: 87 | rating: 2 | predicted rating: 2.267189413546108 \n",
      "user: 53 | item: 197 | rating: 2 | predicted rating: 2.386015657147009 \n",
      "user: 52 | item: 134 | rating: 2 | predicted rating: 3.05055282905267 \n",
      "user: 90 | item: 99 | rating: 2 | predicted rating: 2.5171835145417334 \n",
      "user: 66 | item: 60 | rating: 2 | predicted rating: 1.230123032243911 \n",
      "user: 1 | item: 234 | rating: 5 | predicted rating: 4.796988130936184 \n",
      "user: 65 | item: 156 | rating: 4 | predicted rating: 3.700754436229876 \n",
      "user: 78 | item: 160 | rating: 3 | predicted rating: 3.372482004592196 \n",
      "user: 24 | item: 263 | rating: 2 | predicted rating: 3.1015562747437038 \n",
      "user: 92 | item: 272 | rating: 3 | predicted rating: 2.3008247838082845 \n",
      "user: 93 | item: 163 | rating: 3 | predicted rating: 3.462430647969837 \n",
      "user: 81 | item: 137 | rating: 2 | predicted rating: 2.0907849385935195 \n",
      "user: 59 | item: 104 | rating: 3 | predicted rating: 3.2352181604553434 \n",
      "user: 2 | item: 122 | rating: 3 | predicted rating: 3.7414290085882635 \n",
      "user: 49 | item: 165 | rating: 2 | predicted rating: 1.1700719214209507 \n",
      "user: 25 | item: 2 | rating: 2 | predicted rating: 1.919828036336302 \n",
      "user: 35 | item: 120 | rating: 4 | predicted rating: 3.901457065335509 \n",
      "user: 80 | item: 120 | rating: 2 | predicted rating: 2.4651054383178415 \n",
      "user: 80 | item: 140 | rating: 1 | predicted rating: 1 \n",
      "user: 53 | item: 196 | rating: 2 | predicted rating: 1.211554850499549 \n",
      "user: 76 | item: 84 | rating: 4 | predicted rating: 3.858693754638865 \n",
      "user: 95 | item: 87 | rating: 1 | predicted rating: 2.286468963056337 \n",
      "user: 64 | item: 179 | rating: 3 | predicted rating: 2.695587033469476 \n",
      "user: 69 | item: 131 | rating: 2 | predicted rating: 1.5114585009015067 \n",
      "user: 94 | item: 36 | rating: 1 | predicted rating: 2.3268953489668753 \n",
      "user: 87 | item: 176 | rating: 5 | predicted rating: 4.24495997532667 \n",
      "user: 30 | item: 41 | rating: 2 | predicted rating: 2.5896758957052732 \n",
      "user: 53 | item: 167 | rating: 5 | predicted rating: 3.6040092080881037 \n",
      "user: 69 | item: 148 | rating: 5 | predicted rating: 4.359296815141713 \n",
      "user: 97 | item: 285 | rating: 5 | predicted rating: 4.461179283677995 \n",
      "user: 33 | item: 175 | rating: 4 | predicted rating: 3.840522238983565 \n",
      "user: 15 | item: 176 | rating: 5 | predicted rating: 4.447517838861368 \n",
      "user: 9 | item: 267 | rating: 5 | predicted rating: 4.089869423048775 \n",
      "user: 57 | item: 138 | rating: 5 | predicted rating: 3.5583073129687124 \n",
      "user: 86 | item: 258 | rating: 4 | predicted rating: 3.6257289320531054 \n",
      "user: 49 | item: 115 | rating: 3 | predicted rating: 3.3443212305433967 \n",
      "user: 37 | item: 172 | rating: 3 | predicted rating: 2.9958046656279387 \n",
      "user: 66 | item: 192 | rating: 1 | predicted rating: 1.6006981249731145 \n",
      "user: 62 | item: 297 | rating: 3 | predicted rating: 3.0839060409248007 \n",
      "user: 39 | item: 52 | rating: 4 | predicted rating: 3.4563855717196765 \n",
      "user: 19 | item: 13 | rating: 2 | predicted rating: 2.3819086513598506 \n",
      "user: 29 | item: 2 | rating: 4 | predicted rating: 3.976065700279795 \n",
      "user: 98 | item: 172 | rating: 4 | predicted rating: 2.9973126864401087 \n",
      "user: 9 | item: 172 | rating: 1 | predicted rating: 2.003884362662055 \n",
      "user: 81 | item: 61 | rating: 1 | predicted rating: 1.4529190868268282 \n",
      "user: 43 | item: 298 | rating: 4 | predicted rating: 3.6022443326646547 \n",
      "user: 9 | item: 39 | rating: 5 | predicted rating: 4.051293180983393 \n",
      "user: 60 | item: 11 | rating: 3 | predicted rating: 2.9758613951527058 \n",
      "user: 24 | item: 128 | rating: 1 | predicted rating: 1.6795443091881392 \n",
      "user: 31 | item: 255 | rating: 1 | predicted rating: 3.3169953268747676 \n",
      "user: 24 | item: 264 | rating: 4 | predicted rating: 3.610669401021007 \n",
      "user: 38 | item: 60 | rating: 1 | predicted rating: 1.608443909987752 \n",
      "user: 50 | item: 44 | rating: 5 | predicted rating: 5 \n",
      "user: 87 | item: 293 | rating: 3 | predicted rating: 2.9966394109384282 \n",
      "user: 20 | item: 254 | rating: 2 | predicted rating: 2.388034906906258 \n",
      "user: 75 | item: 276 | rating: 1 | predicted rating: 2.0684614449835212 \n",
      "user: 3 | item: 68 | rating: 2 | predicted rating: 1.3924647562818353 \n",
      "user: 40 | item: 174 | rating: 4 | predicted rating: 3.5023433807916886 \n",
      "user: 81 | item: 181 | rating: 1 | predicted rating: 1.107602781592628 \n",
      "user: 81 | item: 73 | rating: 1 | predicted rating: 2.5709188160301113 \n",
      "user: 66 | item: 141 | rating: 2 | predicted rating: 1 \n",
      "user: 78 | item: 284 | rating: 1 | predicted rating: 2.0560661253809016 \n",
      "user: 3 | item: 271 | rating: 1 | predicted rating: 2.7260622507004206 \n",
      "**\n",
      "Average MSE:  0.6012965523887436\n",
      "Average MAE:  0.6176459520356947\n",
      "**\n",
      "Average MSE with round:  0.64\n",
      "Average MAE with round :  0.56\n"
     ]
    }
   ],
   "source": [
    "for i in range(nb_samples):\n",
    "    sleep(0.05) # sleep to let the API breathe and allow others to call requests\n",
    "    prediction =  algo.predict(uid=next_user, iid=next_item, verbose=False).est\n",
    "    params['predicted_score'] = prediction \n",
    "    r=requests.get(url=url_predict,params=params)\n",
    "    d=r.json()\n",
    "    \n",
    "    rating= d['rating'] # previous rating\n",
    "    \n",
    "    print('user: %s | item: %s | rating: %s | predicted rating: %s ' % (d['next_user'],d['next_item'],d['rating'],params['predicted_score']))\n",
    "    next_user = d['next_user']\n",
    "    next_item = d['next_item']\n",
    "    \n",
    "    mse+=(rating-prediction)**2\n",
    "    mae+= abs(rating-prediction)\n",
    "    mse_round+= (rating-round(prediction))**2\n",
    "    mae_round+= abs(rating-round(prediction))\n",
    "\n",
    "print('**')\n",
    "print('Average MSE: ', mse/nb_samples)\n",
    "print('Average MAE: ', mae/nb_samples)\n",
    "print('**')\n",
    "print('Average MSE with round: ', mse_round/nb_samples)\n",
    "print('Average MAE with round : ', mae_round/nb_samples)"
   ]
  },
  {
   "cell_type": "markdown",
   "metadata": {},
   "source": [
    "## 2/ Neural Network Method (Dot Product)"
   ]
  },
  {
   "cell_type": "code",
   "execution_count": 26,
   "metadata": {},
   "outputs": [
    {
     "name": "stderr",
     "output_type": "stream",
     "text": [
      "Using TensorFlow backend.\n"
     ]
    }
   ],
   "source": [
    "from keras.layers import Input, Embedding, Flatten, Dot\n",
    "from keras.models import Model"
   ]
  },
  {
   "cell_type": "markdown",
   "metadata": {},
   "source": [
    "### Reset Environment"
   ]
  },
  {
   "cell_type": "code",
   "execution_count": 24,
   "metadata": {},
   "outputs": [],
   "source": [
    "user_id = 'VWW01S0D18NSKR55Q43F'\n",
    "base_url ='http://52.47.62.31/'\n",
    "url_reset=base_url+\"reset\"\n",
    "url_predict = base_url+'predict'\n",
    "params = {'user_id':user_id}\n",
    "r = requests.get(url=url_reset,params=params) # get history of rating\n",
    "data = r.json()\n",
    "\n",
    "nb_users = data['nb_users']\n",
    "nb_items = data['nb_items']\n",
    "\n",
    "user_history = data['user_history']\n",
    "item_history = data['item_history']\n",
    "rating_history = data['rating_history']\n",
    "\n",
    "next_user = data['next_user']\n",
    "next_item = data['next_item']"
   ]
  },
  {
   "cell_type": "markdown",
   "metadata": {},
   "source": [
    "### Building Model "
   ]
  },
  {
   "cell_type": "code",
   "execution_count": 27,
   "metadata": {},
   "outputs": [],
   "source": [
    "# Input Layers\n",
    "user_id_input = Input(shape=[1],name='user')\n",
    "item_id_input = Input(shape=[1], name='item')\n",
    "\n",
    "embedding_size = 30\n",
    "user_embedding = Embedding(output_dim=embedding_size, input_dim=nb_users + 1,\n",
    "                           input_length=1, name='user_embedding')(user_id_input)\n",
    "\n",
    "item_embedding = Embedding(output_dim=embedding_size, input_dim=nb_items + 1,\n",
    "                           input_length=1, name='item_embedding')(item_id_input)\n",
    "\n",
    "# reshape from shape: (batch_size, input_length, embedding_size)\n",
    "# to shape: (batch_size, input_length * embedding_size) which is\n",
    "# equal to shape: (batch_size, embedding_size)\n",
    "user_vecs = Flatten()(user_embedding)\n",
    "item_vecs = Flatten()(item_embedding)\n",
    "\n",
    "y = Dot(axes=1)([user_vecs, item_vecs])\n",
    "\n",
    "model = Model(inputs=[user_id_input, item_id_input], outputs=y)\n",
    "model.compile(optimizer='adam', loss='MAE')"
   ]
  },
  {
   "cell_type": "code",
   "execution_count": 28,
   "metadata": {},
   "outputs": [
    {
     "name": "stdout",
     "output_type": "stream",
     "text": [
      "__________________________________________________________________________________________________\n",
      "Layer (type)                    Output Shape         Param #     Connected to                     \n",
      "==================================================================================================\n",
      "user (InputLayer)               (None, 1)            0                                            \n",
      "__________________________________________________________________________________________________\n",
      "item (InputLayer)               (None, 1)            0                                            \n",
      "__________________________________________________________________________________________________\n",
      "user_embedding (Embedding)      (None, 1, 30)        3030        user[0][0]                       \n",
      "__________________________________________________________________________________________________\n",
      "item_embedding (Embedding)      (None, 1, 30)        9030        item[0][0]                       \n",
      "__________________________________________________________________________________________________\n",
      "flatten_1 (Flatten)             (None, 30)           0           user_embedding[0][0]             \n",
      "__________________________________________________________________________________________________\n",
      "flatten_2 (Flatten)             (None, 30)           0           item_embedding[0][0]             \n",
      "__________________________________________________________________________________________________\n",
      "dot_1 (Dot)                     (None, 1)            0           flatten_1[0][0]                  \n",
      "                                                                 flatten_2[0][0]                  \n",
      "==================================================================================================\n",
      "Total params: 12,060\n",
      "Trainable params: 12,060\n",
      "Non-trainable params: 0\n",
      "__________________________________________________________________________________________________\n"
     ]
    }
   ],
   "source": [
    "model.summary()"
   ]
  },
  {
   "cell_type": "code",
   "execution_count": 30,
   "metadata": {},
   "outputs": [],
   "source": [
    "from sklearn.model_selection import train_test_split\n",
    "user_train,user_test, item_train,item_test,rating_train,rating_test = train_test_split(user_history,item_history,rating_history, test_size=0.25, random_state=0)"
   ]
  },
  {
   "cell_type": "markdown",
   "metadata": {},
   "source": [
    "#### Fitting the model on Training Set "
   ]
  },
  {
   "cell_type": "code",
   "execution_count": 31,
   "metadata": {
    "scrolled": true
   },
   "outputs": [
    {
     "name": "stdout",
     "output_type": "stream",
     "text": [
      "Train on 6750 samples, validate on 750 samples\n",
      "Epoch 1/20\n",
      "6750/6750 [==============================] - 1s 149us/step - loss: 3.0679 - val_loss: 3.0984\n",
      "Epoch 2/20\n",
      "6750/6750 [==============================] - 0s 33us/step - loss: 3.0492 - val_loss: 3.0486\n",
      "Epoch 3/20\n",
      "6750/6750 [==============================] - 0s 49us/step - loss: 2.8754 - val_loss: 2.6976\n",
      "Epoch 4/20\n",
      "6750/6750 [==============================] - 0s 43us/step - loss: 2.2506 - val_loss: 1.8786\n",
      "Epoch 5/20\n",
      "6750/6750 [==============================] - 0s 43us/step - loss: 1.4089 - val_loss: 1.1373\n",
      "Epoch 6/20\n",
      "6750/6750 [==============================] - 0s 34us/step - loss: 0.8724 - val_loss: 0.7564\n",
      "Epoch 7/20\n",
      "6750/6750 [==============================] - 0s 50us/step - loss: 0.6391 - val_loss: 0.6279\n",
      "Epoch 8/20\n",
      "6750/6750 [==============================] - 0s 38us/step - loss: 0.5870 - val_loss: 0.6122\n",
      "Epoch 9/20\n",
      "6750/6750 [==============================] - 0s 42us/step - loss: 0.5764 - val_loss: 0.6092\n",
      "Epoch 10/20\n",
      "6750/6750 [==============================] - 0s 53us/step - loss: 0.5723 - val_loss: 0.6029\n",
      "Epoch 11/20\n",
      "6750/6750 [==============================] - 0s 56us/step - loss: 0.5686 - val_loss: 0.6000\n",
      "Epoch 12/20\n",
      "6750/6750 [==============================] - 0s 53us/step - loss: 0.5659 - val_loss: 0.5967\n",
      "Epoch 13/20\n",
      "6750/6750 [==============================] - 1s 76us/step - loss: 0.5625 - val_loss: 0.5987\n",
      "Epoch 14/20\n",
      "6750/6750 [==============================] - 0s 61us/step - loss: 0.5606 - val_loss: 0.5933\n",
      "Epoch 15/20\n",
      "6750/6750 [==============================] - 0s 63us/step - loss: 0.5572 - val_loss: 0.5891\n",
      "Epoch 16/20\n",
      "6750/6750 [==============================] - 0s 49us/step - loss: 0.5534 - val_loss: 0.5868\n",
      "Epoch 17/20\n",
      "6750/6750 [==============================] - ETA: 0s - loss: 0.550 - 0s 43us/step - loss: 0.5494 - val_loss: 0.5842\n",
      "Epoch 18/20\n",
      "6750/6750 [==============================] - 0s 37us/step - loss: 0.5448 - val_loss: 0.5821\n",
      "Epoch 19/20\n",
      "6750/6750 [==============================] - 0s 45us/step - loss: 0.5404 - val_loss: 0.5819\n",
      "Epoch 20/20\n",
      "6750/6750 [==============================] - 0s 36us/step - loss: 0.5341 - val_loss: 0.5770\n",
      "Wall time: 7.61 s\n"
     ]
    }
   ],
   "source": [
    "%%time\n",
    "\n",
    "history = model.fit([user_train, item_train], rating_train,\n",
    "                    batch_size=64, \n",
    "                    epochs=20, \n",
    "                    validation_split=0.1,\n",
    "                    shuffle=True)"
   ]
  },
  {
   "cell_type": "markdown",
   "metadata": {},
   "source": [
    "#### Summarize history : Evolution of Training loss & Test Loss"
   ]
  },
  {
   "cell_type": "code",
   "execution_count": 33,
   "metadata": {},
   "outputs": [],
   "source": [
    "import matplotlib.pyplot as plt\n",
    "%matplotlib inline"
   ]
  },
  {
   "cell_type": "code",
   "execution_count": 34,
   "metadata": {},
   "outputs": [
    {
     "data": {
      "image/png": "[encoded data removed]",
      "text/plain": [
       "<Figure size 720x432 with 1 Axes>"
      ]
     },
     "metadata": {
      "needs_background": "light"
     },
     "output_type": "display_data"
    }
   ],
   "source": [
    "plt.figure(figsize=(10,6))\n",
    "plt.plot(history.history['loss'])\n",
    "plt.plot(history.history['val_loss'])\n",
    "plt.title('Model loss - Basic Implementation')\n",
    "plt.ylabel('loss')\n",
    "plt.xlabel('epoch')\n",
    "plt.legend(['train', 'test'], loc='upper right')\n",
    "plt.show()"
   ]
  },
  {
   "cell_type": "markdown",
   "metadata": {},
   "source": [
    "### Computing Predictions with Predict Method"
   ]
  },
  {
   "cell_type": "code",
   "execution_count": null,
   "metadata": {},
   "outputs": [],
   "source": [
    "nb_samples = 1000\n",
    "mae, mse, mae_round,mse_round= 0,0,0,0"
   ]
  },
  {
   "cell_type": "code",
   "execution_count": 35,
   "metadata": {},
   "outputs": [
    {
     "name": "stdout",
     "output_type": "stream",
     "text": [
      "Next_User: 90 | Next Item: 179\n"
     ]
    }
   ],
   "source": [
    "print('Next_User: %d | Next Item: %d' %(next_user,next_item))"
   ]
  },
  {
   "cell_type": "code",
   "execution_count": 37,
   "metadata": {
    "scrolled": true
   },
   "outputs": [
    {
     "name": "stdout",
     "output_type": "stream",
     "text": [
      "user: 51 | item: 257 | rating: 2 | prediced rating: 1.5404041 \n",
      "user: 79 | item: 6 | rating: 1 | prediced rating: 2.081789 \n",
      "user: 55 | item: 212 | rating: 5 | prediced rating: 5.337367 \n",
      "user: 62 | item: 202 | rating: 5 | prediced rating: 4.57499 \n",
      "user: 82 | item: 64 | rating: 2 | prediced rating: 1.8935226 \n",
      "user: 25 | item: 242 | rating: 1 | prediced rating: 2.056718 \n",
      "user: 33 | item: 96 | rating: 5 | prediced rating: 5.0262494 \n",
      "user: 38 | item: 145 | rating: 2 | prediced rating: 2.203394 \n",
      "user: 93 | item: 86 | rating: 1 | prediced rating: 1.3957572 \n",
      "user: 12 | item: 214 | rating: 5 | prediced rating: 3.8505654 \n",
      "user: 16 | item: 145 | rating: 2 | prediced rating: 2.6603343 \n",
      "user: 52 | item: 128 | rating: 2 | prediced rating: 1.7077205 \n",
      "user: 70 | item: 77 | rating: 3 | prediced rating: 2.3527942 \n",
      "user: 65 | item: 102 | rating: 1 | prediced rating: 2.3081412 \n",
      "user: 87 | item: 48 | rating: 2 | prediced rating: 1.9276023 \n",
      "user: 1 | item: 219 | rating: 5 | prediced rating: 4.1400666 \n",
      "user: 64 | item: 97 | rating: 4 | prediced rating: 2.9971933 \n",
      "user: 37 | item: 103 | rating: 1 | prediced rating: 1.2116783 \n",
      "user: 27 | item: 205 | rating: 1 | prediced rating: 0.84319866 \n",
      "user: 37 | item: 10 | rating: 4 | prediced rating: 3.9495292 \n",
      "user: 33 | item: 40 | rating: 2 | prediced rating: 2.7911897 \n",
      "user: 48 | item: 35 | rating: 2 | prediced rating: 1.4438488 \n",
      "user: 65 | item: 31 | rating: 3 | prediced rating: 2.297501 \n",
      "user: 41 | item: 181 | rating: 4 | prediced rating: 3.6085072 \n",
      "user: 33 | item: 151 | rating: 2 | prediced rating: 3.0340638 \n",
      "user: 75 | item: 282 | rating: 2 | prediced rating: 1.8885487 \n",
      "user: 91 | item: 45 | rating: 3 | prediced rating: 4.620387 \n",
      "user: 96 | item: 211 | rating: 5 | prediced rating: 4.5301642 \n",
      "user: 39 | item: 146 | rating: 1 | prediced rating: 2.8876932 \n",
      "user: 11 | item: 5 | rating: 2 | prediced rating: 1.4767842 \n",
      "user: 34 | item: 7 | rating: 2 | prediced rating: 2.264528 \n",
      "user: 51 | item: 208 | rating: 3 | prediced rating: 2.818758 \n",
      "user: 65 | item: 40 | rating: 2 | prediced rating: 3.5768707 \n",
      "user: 14 | item: 27 | rating: 3 | prediced rating: 2.2701776 \n",
      "user: 82 | item: 151 | rating: 3 | prediced rating: 3.3567488 \n",
      "user: 17 | item: 196 | rating: 5 | prediced rating: 4.2354083 \n",
      "user: 20 | item: 39 | rating: 4 | prediced rating: 4.141655 \n",
      "user: 54 | item: 113 | rating: 1 | prediced rating: 0.9806727 \n",
      "user: 16 | item: 75 | rating: 2 | prediced rating: 3.0821967 \n",
      "user: 13 | item: 131 | rating: 3 | prediced rating: 2.031632 \n",
      "user: 60 | item: 49 | rating: 2 | prediced rating: 1.9368243 \n",
      "user: 98 | item: 141 | rating: 4 | prediced rating: 2.0150952 \n",
      "user: 70 | item: 153 | rating: 5 | prediced rating: 4.5908985 \n",
      "user: 29 | item: 129 | rating: 2 | prediced rating: 2.4306178 \n",
      "user: 17 | item: 182 | rating: 1 | prediced rating: 1.5111052 \n",
      "user: 35 | item: 291 | rating: 4 | prediced rating: 3.6325989 \n",
      "user: 49 | item: 161 | rating: 5 | prediced rating: 4.077361 \n",
      "user: 96 | item: 176 | rating: 3 | prediced rating: 2.9925992 \n",
      "user: 3 | item: 49 | rating: 4 | prediced rating: 3.8811746 \n",
      "user: 5 | item: 259 | rating: 1 | prediced rating: 1.9181759 \n",
      "user: 91 | item: 12 | rating: 4 | prediced rating: 4.0438867 \n",
      "user: 19 | item: 178 | rating: 5 | prediced rating: 4.3920765 \n",
      "user: 64 | item: 134 | rating: 2 | prediced rating: 1.4964671 \n",
      "user: 94 | item: 20 | rating: 1 | prediced rating: 1.0722395 \n",
      "user: 83 | item: 264 | rating: 5 | prediced rating: 4.611 \n",
      "user: 35 | item: 182 | rating: 5 | prediced rating: 5.2894664 \n",
      "user: 39 | item: 0 | rating: 4 | prediced rating: 3.5903423 \n",
      "user: 5 | item: 29 | rating: 5 | prediced rating: 4.9169345 \n",
      "user: 44 | item: 184 | rating: 2 | prediced rating: 1.9840994 \n",
      "user: 17 | item: 100 | rating: 4 | prediced rating: 3.5069184 \n",
      "user: 67 | item: 107 | rating: 3 | prediced rating: 4.0687838 \n",
      "user: 8 | item: 299 | rating: 3 | prediced rating: 1.438556 \n",
      "user: 55 | item: 73 | rating: 2 | prediced rating: 1.4595921 \n",
      "user: 3 | item: 94 | rating: 3 | prediced rating: 3.208615 \n",
      "user: 47 | item: 213 | rating: 3 | prediced rating: 2.8768067 \n",
      "user: 19 | item: 277 | rating: 3 | prediced rating: 2.147353 \n",
      "user: 49 | item: 72 | rating: 3 | prediced rating: 3.3801827 \n",
      "user: 37 | item: 215 | rating: 3 | prediced rating: 3.0746822 \n",
      "user: 27 | item: 81 | rating: 5 | prediced rating: 3.7677035 \n",
      "user: 86 | item: 132 | rating: 5 | prediced rating: 4.8287735 \n",
      "user: 13 | item: 155 | rating: 4 | prediced rating: 3.9901454 \n",
      "user: 49 | item: 192 | rating: 2 | prediced rating: 1.95661 \n",
      "user: 35 | item: 29 | rating: 4 | prediced rating: 3.333198 \n",
      "user: 82 | item: 103 | rating: 1 | prediced rating: 2.0758605 \n",
      "user: 2 | item: 124 | rating: 1 | prediced rating: 1.0504014 \n",
      "user: 99 | item: 140 | rating: 2 | prediced rating: 2.0616713 \n",
      "user: 58 | item: 229 | rating: 5 | prediced rating: 4.0975604 \n",
      "user: 36 | item: 180 | rating: 1 | prediced rating: 1.1779082 \n",
      "user: 82 | item: 70 | rating: 2 | prediced rating: 1.5780203 \n",
      "user: 7 | item: 47 | rating: 5 | prediced rating: 4.00331 \n",
      "user: 23 | item: 183 | rating: 5 | prediced rating: 5.3873577 \n",
      "user: 7 | item: 212 | rating: 1 | prediced rating: 2.8853612 \n",
      "user: 12 | item: 67 | rating: 5 | prediced rating: 4.585615 \n",
      "user: 93 | item: 236 | rating: 4 | prediced rating: 3.3746846 \n",
      "user: 88 | item: 298 | rating: 3 | prediced rating: 4.0776253 \n",
      "user: 6 | item: 144 | rating: 1 | prediced rating: 1.7086415 \n",
      "user: 90 | item: 28 | rating: 2 | prediced rating: 2.411588 \n",
      "user: 46 | item: 281 | rating: 1 | prediced rating: 1.5702096 \n",
      "user: 38 | item: 149 | rating: 5 | prediced rating: 4.893427 \n",
      "user: 29 | item: 221 | rating: 1 | prediced rating: 2.633362 \n",
      "user: 0 | item: 258 | rating: 1 | prediced rating: 2.0134559 \n",
      "user: 25 | item: 19 | rating: 4 | prediced rating: 3.5515733 \n",
      "user: 9 | item: 89 | rating: 2 | prediced rating: 2.1979425 \n",
      "user: 14 | item: 198 | rating: 3 | prediced rating: 2.9581761 \n",
      "user: 8 | item: 20 | rating: 3 | prediced rating: 3.1509507 \n",
      "user: 71 | item: 46 | rating: 5 | prediced rating: 1.7565289 \n",
      "user: 22 | item: 157 | rating: 3 | prediced rating: 2.740458 \n",
      "user: 11 | item: 194 | rating: 2 | prediced rating: 3.0278573 \n",
      "user: 72 | item: 119 | rating: 2 | prediced rating: 2.4727776 \n",
      "user: 62 | item: 102 | rating: 4 | prediced rating: 4.2008276 \n",
      "**\n",
      "Average MSE:  [1.2435335]\n",
      "Average MAE:  [1.209581]\n",
      "**\n",
      "Average MSE with round:  1.37\n",
      "Average MAE with round :  1.09\n"
     ]
    }
   ],
   "source": [
    "for i in range(nb_samples):\n",
    "    sleep(0.05) # sleep to let the API breathe and allow others to call requests\n",
    "    prediction =  model.predict([np.array(next_user).reshape(1,1), np.array(next_item).reshape(1,1)])[0][0]\n",
    "    \n",
    "    params['predicted_score'] = prediction \n",
    "    r=requests.get(url=url_predict,params=params)\n",
    "    d=r.json()\n",
    "    rating= d['rating'] # previous rating\n",
    "    print('user: %s | item: %s | rating: %s | prediced rating: %s ' % (d['next_user'],d['next_item'],d['rating'],params['predicted_score']))\n",
    "    next_user = d['next_user']\n",
    "    next_item = d['next_item']\n",
    "    \n",
    "    mse+=(rating-prediction)**2\n",
    "    mae+= abs(rating-prediction)\n",
    "    mse_round+= (rating-round(prediction))**2\n",
    "    mae_round+= abs(rating-round(prediction))\n",
    "\n",
    "print('**')\n",
    "print('Average MSE: ', mse/nb_samples)\n",
    "print('Average MAE: ', mae/nb_samples)\n",
    "print('**')\n",
    "print('Average MSE with round: ', mse_round/nb_samples)\n",
    "print('Average MAE with round : ', mae_round/nb_samples)"
   ]
  },
  {
   "cell_type": "code",
   "execution_count": null,
   "metadata": {},
   "outputs": [],
   "source": []
  }
 ],
 "metadata": {
  "kernelspec": {
   "display_name": "New Kernel",
   "language": "python",
   "name": "venv"
  },
  "language_info": {
   "codemirror_mode": {
    "name": "ipython",
    "version": 3
   },
   "file_extension": ".py",
   "mimetype": "text/x-python",
   "name": "python",
   "nbconvert_exporter": "python",
   "pygments_lexer": "ipython3",
   "version": "3.5.6"
  }
 },
 "nbformat": 4,
 "nbformat_minor": 2
}
